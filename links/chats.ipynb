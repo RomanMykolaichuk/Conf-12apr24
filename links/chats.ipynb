{
 "cells": [
  {
   "cell_type": "markdown",
   "metadata": {},
   "source": [
    "[Chat GPT діалог по створенню презентації](https://chat.openai.com/share/f461bf6e-a07d-42a9-851d-1c68abbf614b)"
   ]
  },
  {
   "cell_type": "markdown",
   "metadata": {},
   "source": [
    "[Chat GPT діалог по створенню plantUML діаграм](https://chat.openai.com/share/e8246649-c47d-42a0-b179-cb88ffc101c8)"
   ]
  },
  {
   "cell_type": "markdown",
   "metadata": {},
   "source": [
    "[Chat GPT діалог по створенню draw.io діаграм](https://chat.openai.com/share/87c8b95c-6a32-491b-9b29-75c77b97a82e)"
   ]
  },
  {
   "cell_type": "markdown",
   "metadata": {},
   "source": [
    "[Chat GPT діалог по створенню текстового контенту майстер-класу](https://chat.openai.com/share/7a055c4f-e9a2-4414-a9ec-351c481e0543)"
   ]
  }
 ],
 "metadata": {
  "language_info": {
   "name": "python"
  }
 },
 "nbformat": 4,
 "nbformat_minor": 2
}
