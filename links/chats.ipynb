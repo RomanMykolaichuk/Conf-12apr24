{
 "cells": [
  {
   "cell_type": "markdown",
   "metadata": {},
   "source": [
    "[Chat GPT діалог по створенню презентації](https://chat.openai.com/share/f461bf6e-a07d-42a9-851d-1c68abbf614b)"
   ]
  },
  {
   "cell_type": "markdown",
   "metadata": {},
   "source": [
    "[Chat GPT діалог по створенню plantUML діаграм](https://chat.openai.com/share/e8246649-c47d-42a0-b179-cb88ffc101c8)"
   ]
  }
 ],
 "metadata": {
  "language_info": {
   "name": "python"
  }
 },
 "nbformat": 4,
 "nbformat_minor": 2
}
