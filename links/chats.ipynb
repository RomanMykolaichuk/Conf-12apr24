{
 "cells": [
  {
   "cell_type": "markdown",
   "metadata": {},
   "source": [
    "[Chat GPT діалог по створенню презентації](https://chat.openai.com/share/f461bf6e-a07d-42a9-851d-1c68abbf614b)"
   ]
  }
 ],
 "metadata": {
  "language_info": {
   "name": "python"
  }
 },
 "nbformat": 4,
 "nbformat_minor": 2
}
