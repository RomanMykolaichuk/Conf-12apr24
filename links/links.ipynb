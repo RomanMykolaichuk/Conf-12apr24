{
 "cells": [
  {
   "cell_type": "code",
   "execution_count": null,
   "metadata": {},
   "outputs": [],
   "source": []
  },
  {
   "cell_type": "markdown",
   "metadata": {},
   "source": [
    "[Роман Миколайчук](https://linktr.ee/RomanMykolaichuk)"
   ]
  },
  {
   "cell_type": "markdown",
   "metadata": {},
   "source": [
    "[Інтерактивний контент](https://chat.openai.com/share/c5f129f6-c943-46a5-bbe9-b0c15c8c7462)\n",
    "\n",
    "[Demo Moodle](https://sandbox.moodledemo.net/)\n"
   ]
  },
  {
   "cell_type": "markdown",
   "metadata": {},
   "source": [
    "\n",
    "Курс MIT з введення у глибоке навчання: [http://introtodeeplearning.com](http://introtodeeplearning.com)\n",
    "\n",
    "Огляд курсу на блозі TensorFlow: [https://blog.tensorflow.org/2019/02/mit-6S191-introduction-to-deep-learning.html](https://blog.tensorflow.org/2019/02/mit-6S191-introduction-to-deep-learning.html)\n",
    "\n",
    "Вебсайт Деніела Бурка: [https://www.mrdbourke.com/](https://www.mrdbourke.com/)\n",
    "\n",
    "Канал Деніела Бурка на YouTube: [https://www.youtube.com/channel/UCr8O8l5cCX85Oem1d18EezQ](https://www.youtube.com/channel/UCr8O8l5cCX85Oem1d18EezQ)"
   ]
  },
  {
   "cell_type": "markdown",
   "metadata": {},
   "source": [
    "- [Teaching with AI - OpenAI](https://openai.com)\n",
    "- [AI Tools for Teachers | Edutopia](https://www.edutopia.org)\n",
    "- [Artificial Intelligence - Office of Educational Technology](https://tech.ed.gov)\n",
    "- [Artificial intelligence in education | UNESCO](https://www.unesco.org)\n",
    "- [ISTE | Artificial Intelligence in Education](https://iste.org)\n",
    "- [CRAFT - AI Literacy](https://craft.stanford.edu)\n",
    "- [Teaching with Generative AI Resource Hub - MIT Sloan Teaching & Learning Technologies](https://mitsloanedtech.mit.edu)\n",
    "- [Teaching AI: Educator Resources for Artificial Intelligence in the Classroom | Intel](https://www.intel.com)\n",
    "- [Best Free Artificial Intelligence Educational Resources Online | freeCodeCamp](https://www.freecodecamp.org)\n",
    "- [AI Tools in Teaching and Learning | Teaching Commons](https://teachingcommons.stanford.edu)"
   ]
  }
 ],
 "metadata": {
  "language_info": {
   "name": "python"
  }
 },
 "nbformat": 4,
 "nbformat_minor": 2
}
